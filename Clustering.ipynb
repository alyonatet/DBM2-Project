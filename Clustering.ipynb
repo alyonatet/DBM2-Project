{
 "cells": [
  {
   "cell_type": "markdown",
   "metadata": {},
   "source": [
    "SPOTIFY GENRE PREDICTION\n",
    "\n",
    "Useful Imports \n",
    "\n",
    "Below are the imports used in the cleaning and pre-processing, clustering, and visualization methods."
   ]
  },
  {
   "cell_type": "code",
   "execution_count": 8,
   "metadata": {},
   "outputs": [],
   "source": [
    "# Importing Libraries\n",
    "from sklearn.cluster import KMeans\n",
    "from sklearn.decomposition import PCA\n",
    "from sklearn.metrics import silhouette_score\n",
    "import pandas as pd\n",
    "import numpy as np\n",
    "import matplotlib.pyplot as plt\n",
    "import seaborn as sns\n",
    "from sklearn.impute import SimpleImputer\n",
    "from sklearn.preprocessing import LabelEncoder"
   ]
  },
  {
   "cell_type": "markdown",
   "metadata": {},
   "source": [
    "Pre-processing and cleaning\n",
    "\n",
    "We started the cleaning the data by dropping the unneccesary columns reduce the dimensions of the dataset. The columns that were dropped didn't contribute to any improvements in regards of the classification problem so we decided to drop them. We started by converting the strings to floats by encoding them, but we then decided to drop them anyways since they didn't contribute to the algorithm. We also noticed some inconsistincies, for example some values were just missing, others conained questionmarks (?) and others said 'NaN'. We decided to replace all of the missing values with 'NaN' so it would be easier to remove all of them later.\n",
    "\n",
    "Furthermore, we replaced the mode (Minor/Major) with the float values 0.0 and 1.0, so that all of the feature data is stored as the same type (float64). We also realised that there are five rows that only contain NaN values, so we removed those as well.\n",
    "\n",
    "Lastly we noticed that the column 'tempo' for some reason contained lots of missing values, so we dropped that as well."
   ]
  },
  {
   "cell_type": "code",
   "execution_count": 9,
   "metadata": {},
   "outputs": [
    {
     "name": "stdout",
     "output_type": "stream",
     "text": [
      "Missing values per column:\n",
      "popularity          0\n",
      "acousticness        0\n",
      "danceability        0\n",
      "energy              0\n",
      "instrumentalness    0\n",
      "liveness            0\n",
      "loudness            0\n",
      "mode                0\n",
      "speechiness         0\n",
      "tempo               0\n",
      "valence             0\n",
      "dtype: int64\n",
      "Empty DataFrame\n",
      "Columns: [popularity, acousticness, danceability, energy, instrumentalness, liveness, loudness, mode, speechiness, tempo, valence]\n",
      "Index: []\n"
     ]
    }
   ],
   "source": [
    "# Read the CSV file\n",
    "data = pd.read_csv('MusicDataSet.csv', header='infer')\n",
    "\n",
    "# Drop unnecessary columns\n",
    "columns_to_drop = ['instance_id', 'artist_name', 'track_name', 'obtained_date', 'key', 'duration_ms','music_genre']\n",
    "data = data.drop(columns=columns_to_drop, axis=1)\n",
    "\n",
    "# Convert 'mode' column to numeric\n",
    "data['mode'] = data['mode'].map({'Major': 1, 'Minor': 0}).astype(float)\n",
    "\n",
    "# Replace '?' with NaN\n",
    "data.replace('?', np.nan, inplace=True)\n",
    "\n",
    "#Replace missing values with NaN\n",
    "data = data.fillna(np.NaN)\n",
    "\n",
    "\n",
    "# Convert columns to numeric and impute missing values with mean\n",
    "data = data.apply(pd.to_numeric, errors='coerce')\n",
    "data.fillna(data.mean(), inplace=True)\n",
    "\n",
    "#Count missing values for every column in our dataset\n",
    "NaN_values = data.isna().sum()\n",
    "print(\"Missing values per column:\")\n",
    "print(NaN_values)\n",
    "\n",
    "NaN_rows = data[data.isna().all(axis=1)]    #Check to see if they are all on the same row\n",
    "print(NaN_rows)             \n",
    "\n",
    "data = data.dropna(how='all')           #Drop rows with all NaN values\n",
    "\n",
    "data = data.drop(columns='tempo')       #Lots of missing values, drop this column\n"
   ]
  },
  {
   "cell_type": "code",
   "execution_count": 10,
   "metadata": {},
   "outputs": [
    {
     "ename": "SyntaxError",
     "evalue": "invalid syntax (1643612969.py, line 1)",
     "output_type": "error",
     "traceback": [
      "\u001b[0;36m  Cell \u001b[0;32mIn[10], line 1\u001b[0;36m\u001b[0m\n\u001b[0;31m    popularity  acousticness  danceability  duration_ms  energy  \\\u001b[0m\n\u001b[0m                ^\u001b[0m\n\u001b[0;31mSyntaxError\u001b[0m\u001b[0;31m:\u001b[0m invalid syntax\n"
     ]
    }
   ],
   "source": [
    "   popularity  acousticness  danceability  duration_ms  energy  \\\n",
    "0        27.0       0.00468         0.652         -1.0   0.941   \n",
    "1        31.0       0.01270         0.622     218293.0   0.890   \n",
    "2        28.0       0.00306         0.620     215613.0   0.755   \n",
    "3        34.0       0.02540         0.774     166875.0   0.700   \n",
    "4        32.0       0.00465         0.638     222369.0   0.587   \n",
    "5        47.0       0.00523         0.755     519468.0   0.731   \n",
    "6        46.0       0.02890         0.572     214408.0   0.803   \n",
    "7        43.0       0.02970         0.809     416132.0   0.706   \n",
    "8        39.0       0.00299         0.509     292800.0   0.921   \n",
    "9        22.0       0.00934         0.578     204800.0   0.731   \n",
    "\n",
    "   instrumentalness  liveness  loudness   mode  speechiness  \\\n",
    "0          0.792000    0.1150    -5.201  Minor       0.0748   \n",
    "1          0.950000    0.1240    -7.043  Minor       0.0300   \n",
    "2          0.011800    0.5340    -4.617  Major       0.0345   \n",
    "3          0.002530    0.1570    -4.498  Major       0.2390   \n",
    "4          0.909000    0.1570    -6.266  Major       0.0413   \n",
    "5          0.854000    0.2160   -10.517  Minor       0.0412   \n",
    "6          0.000008    0.1060    -4.294  Major       0.3510   \n",
    "7          0.903000    0.0635    -9.339  Minor       0.0484   \n",
    "8          0.000276    0.1780    -3.175  Minor       0.2680   \n",
    "9          0.011200    0.1110    -7.091  Minor       0.1730   \n",
    "\n",
    "                tempo  valence music_genre  \n",
    "0             100.889    0.759  Electronic  \n",
    "1  115.00200000000001    0.531  Electronic  \n",
    "2             127.994    0.333  Electronic  \n",
    "3             128.014    0.270  Electronic  \n",
    "4             145.036    0.323  Electronic  \n",
    "5                   ?    0.614  Electronic  \n",
    "6             149.995    0.230  Electronic  \n",
    "7             120.008    0.761  Electronic  \n",
    "8  149.94799999999998    0.273  Electronic  \n",
    "9             139.933    0.203  Electronic  \n",
    "Missing values per column:\n",
    "popularity             5\n",
    "acousticness           5\n",
    "danceability           5\n",
    "duration_ms            5\n",
    "energy                 5\n",
    "instrumentalness       5\n",
    "liveness               5\n",
    "loudness               5\n",
    "mode                   5\n",
    "speechiness            5\n",
    "tempo               3984\n",
    "valence                5\n",
    "music_genre            5\n",
    "dtype: int64\n",
    "       popularity  acousticness  danceability  duration_ms  energy  \\\n",
    "10000         NaN           NaN           NaN          NaN     NaN   \n",
    "10001         NaN           NaN           NaN          NaN     NaN   \n",
    "10002         NaN           NaN           NaN          NaN     NaN   \n",
    "10003         NaN           NaN           NaN          NaN     NaN   \n",
    "10004         NaN           NaN           NaN          NaN     NaN   \n",
    "\n",
    "       instrumentalness  liveness  loudness  mode  speechiness tempo  valence  \\\n",
    "10000               NaN       NaN       NaN   NaN          NaN   NaN      NaN   \n",
    "10001               NaN       NaN       NaN   NaN          NaN   NaN      NaN   \n",
    "10002               NaN       NaN       NaN   NaN          NaN   NaN      NaN   \n",
    "10003               NaN       NaN       NaN   NaN          NaN   NaN      NaN   \n",
    "10004               NaN       NaN       NaN   NaN          NaN   NaN      NaN   \n",
    "\n",
    "      music_genre  \n",
    "10000         NaN  \n",
    "10001         NaN  \n",
    "10002         NaN  \n",
    "10003         NaN  \n",
    "10004         NaN  "
   ]
  },
  {
   "cell_type": "markdown",
   "metadata": {},
   "source": [
    "Handling outliers\n",
    "We mapped out the outliers by visualizing with boxplots for each feature. Thereafter we removed all of the outliers by setting the threshold for the z-score to 3 (meaning three standard deviations from the mean)."
   ]
  },
  {
   "cell_type": "code",
   "execution_count": null,
   "metadata": {},
   "outputs": [],
   "source": [
    "\n",
    "#BOXPLOTS TO SEE OUTLIERS ETC..\n",
    "# numerical_columns = data.select_dtypes(include=['float64']).columns\n",
    "\n",
    "# plt.figure(figsize=(15, 10))\n",
    "# num_numerical_columns = len(numerical_columns)\n",
    "# num_rows = (num_numerical_columns + 1) // 2  #Number of rows needed\n",
    "\n",
    "# for i, column in enumerate(numerical_columns, start=1):\n",
    "#     plt.subplot(num_rows, 2, i)\n",
    "#     sns.boxplot(x=data[column].values)\n",
    "#     plt.title(f'Boxplot of {column}')\n",
    "\n",
    "# plt.tight_layout()\n",
    "# plt.show()\n",
    "\n",
    "\n",
    "#OUTLIERS\n",
    "numerical_columns = data.select_dtypes(include=['float64']).columns\n",
    "\n",
    "#Calculate Z-scores for each numerical column\n",
    "z_scores = np.abs(stats.zscore(data[numerical_columns]))\n",
    "\n",
    "threshold = 3\n",
    "\n",
    "#Find and remove rows with outliers\n",
    "data_no_outliers = data[(z_scores < threshold).all(axis=1)]\n",
    "\n",
    "# Print the shape before and after removing outliers\n",
    "print(\"\\n\")\n",
    "print(\"Size of dataset before removing outliers:\", data.shape)\n",
    "print(\"Size of dataset after removing outliers:\", data_no_outliers.shape)\n",
    "\n",
    "Size of dataset before removing outliers: (40000, 12)\n",
    "Size of dataset after removing outliers: (36680, 12)"
   ]
  },
  {
   "cell_type": "markdown",
   "metadata": {},
   "source": [
    "K- means Clustering\n",
    "\n",
    "Because we are focusing on clustering the data by genres we have our optimal number of clusters also known as K(k=11 since there 11 genres). Therefore there is no need to find K but I decided to do it anyway to see what I would get back and how the visualization of the data would respond with this number. "
   ]
  },
  {
   "cell_type": "code",
   "execution_count": null,
   "metadata": {},
   "outputs": [],
   "source": [
    "# Determine the optimal number of clusters using the elbow method\n",
    "inertia = []\n",
    "for k in range(1, 11):  # Trying different values for the number of clusters\n",
    "    kmeans = KMeans(n_clusters=k, max_iter=50, random_state=1)\n",
    "    kmeans.fit(z)\n",
    "    inertia.append(kmeans.inertia_)"
   ]
  },
  {
   "cell_type": "code",
   "execution_count": null,
   "metadata": {},
   "outputs": [],
   "source": [
    "# Determine the optimal number of clusters using Silhouette Score\n",
    "silhouette_scores = []\n",
    "for k in range(2, 16):  # Adjust the range as needed\n",
    "    kmeans = KMeans(n_clusters=k, max_iter=50, random_state=1)\n",
    "    kmeans.fit(data_selected)\n",
    "    labels = kmeans.labels_\n",
    "    silhouette_avg = silhouette_score(data_selected, labels)\n",
    "    silhouette_scores.append(silhouette_avg)"
   ]
  },
  {
   "cell_type": "markdown",
   "metadata": {},
   "source": [
    "I tried two different methods the Elboow and Silhouette\n",
    "The graphs I received both showed me 15 =k\n",
    "See this in Fig.1 and 2"
   ]
  },
  {
   "cell_type": "markdown",
   "metadata": {},
   "source": [
    "I implemented th clustering:"
   ]
  },
  {
   "cell_type": "code",
   "execution_count": null,
   "metadata": {},
   "outputs": [],
   "source": [
    "# Interpretation of Clusters\n",
    "cluster_centers = k_means.cluster_centers_\n",
    "feature_names = selected_columns  \n",
    "# Create a DataFrame with cluster centers and feature names\n",
    "cluster_centers_df = pd.DataFrame(cluster_centers, columns=feature_names)\n",
    "\n",
    "# Print cluster centers for interpretation\n",
    "print(\"Cluster Centers (Feature Averages for Each Cluster):\")\n",
    "print(cluster_centers_df)\n"
   ]
  },
  {
   "cell_type": "markdown",
   "metadata": {},
   "source": [
    "The I assigned the genres based on the clustering"
   ]
  },
  {
   "cell_type": "code",
   "execution_count": null,
   "metadata": {},
   "outputs": [],
   "source": [
    "# Assigning Genres based on the characteristics observed\n",
    "genre_mapping = {\n",
    "   0: \"Rock\",\n",
    "   1: \"Hiphop\",\n",
    "   2: \"Jazz\",\n",
    "   3: \"Electronic\",\n",
    "   4: \"Anime\",\n",
    "   5: \"Alternative\",\n",
    "   6: \"Country\",\n",
    "   7: \"Rap\",\n",
    "   8: \"Blues\",\n",
    "   9: \"Classical\"\n",
    "}\n"
   ]
  },
  {
   "cell_type": "markdown",
   "metadata": {},
   "source": [
    "In the following code, we are using K-Means clustering to predict music genres based on the given audio features. The process is as follows:"
   ]
  },
  {
   "cell_type": "code",
   "execution_count": null,
   "metadata": {},
   "outputs": [],
   "source": [
    "# Predicted labels for each instance\n",
    "predicted_labels = k_means.labels_\n",
    "\n",
    "# Create a new column 'predicted_genre' based on cluster assignments\n",
    "data['music_genre'] = predicted_labels\n",
    "\n",
    "# Map cluster labels to genres\n",
    "data['music_genre'] = data['music_genre'].map(genre_mapping).fillna('Unknown')\n"
   ]
  },
  {
   "cell_type": "markdown",
   "metadata": {},
   "source": [
    "Mapping the genres with there associated cluster labeles"
   ]
  },
  {
   "cell_type": "code",
   "execution_count": null,
   "metadata": {},
   "outputs": [],
   "source": [
    "# Print the DataFrame with cluster labels\n",
    "print(\"Data with Cluster Labels:\")\n",
    "print(data[['acousticness', 'danceability', 'energy', 'instrumentalness', 'liveness', 'loudness',\n",
    "            'mode', 'speechiness', 'tempo', 'valence', 'popularity', 'music_genre', 'cluster_label']])\n",
    "\n"
   ]
  },
  {
   "cell_type": "markdown",
   "metadata": {},
   "source": [
    "In the following code, we are using Principal Component Analysis (PCA) to reduce the dimensionality of the selected data (`data_selected`). This is done to visualize the data in a two-dimensional space."
   ]
  },
  {
   "cell_type": "code",
   "execution_count": null,
   "metadata": {},
   "outputs": [],
   "source": [
    "reduced_data = PCA(n_components=2).fit_transform(data_selected)  # Use original data or z-score normalized data\n",
    "\n",
    "# Scatter plot for each genre\n",
    "plt.figure(figsize=(12, 8))"
   ]
  },
  {
   "cell_type": "code",
   "execution_count": null,
   "metadata": {},
   "outputs": [],
   "source": [
    "Mapping the colors for the graph"
   ]
  },
  {
   "cell_type": "code",
   "execution_count": null,
   "metadata": {},
   "outputs": [],
   "source": [
    "genre_colors = {\n",
    "    'Rock': 'blue',\n",
    "    'Hiphop': 'orange',\n",
    "    'Jazz': 'green',\n",
    "    'Electronic': 'red',\n",
    "    'Anime': 'purple',\n",
    "    'Alternative': 'brown',\n",
    "    'Country': 'pink',\n",
    "    'Rap': 'gray',\n",
    "    'Blues': 'cyan',\n",
    "    'Classical': 'lime',\n",
    "    'Unknown': 'black'  \n",
    "}"
   ]
  },
  {
   "cell_type": "markdown",
   "metadata": {},
   "source": [
    "In this code snippet, we visualize the results of K-Means clustering by plotting the reduced data obtained from PCA.\n"
   ]
  },
  {
   "cell_type": "code",
   "execution_count": null,
   "metadata": {},
   "outputs": [],
   "source": [
    "for genre, color in genre_colors.items():\n",
    "    genre_data = reduced_data[data['music_genre'] == genre]\n",
    "    plt.scatter(genre_data[:, 0], genre_data[:, 1], label=genre, c=color, s=80, alpha=0.7, edgecolors='k')\n",
    "\n",
    "plt.title('K-Means Clustering Results with PCA')\n",
    "plt.xlabel('Principal Component 1')\n",
    "plt.ylabel('Principal Component 2')\n",
    "plt.legend(loc='upper right', bbox_to_anchor=(1.15, 1))\n",
    "plt.grid(True, linestyle='--', alpha=0.5)\n",
    "plt.show()"
   ]
  }
 ],
 "metadata": {
  "kernelspec": {
   "display_name": "Python 3",
   "language": "python",
   "name": "python3"
  },
  "language_info": {
   "codemirror_mode": {
    "name": "ipython",
    "version": 3
   },
   "file_extension": ".py",
   "mimetype": "text/x-python",
   "name": "python",
   "nbconvert_exporter": "python",
   "pygments_lexer": "ipython3",
   "version": "3.11.4"
  },
  "orig_nbformat": 4
 },
 "nbformat": 4,
 "nbformat_minor": 2
}
